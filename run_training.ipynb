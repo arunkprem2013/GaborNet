{
 "cells": [
  {
   "cell_type": "code",
   "execution_count": 1,
   "metadata": {
    "pycharm": {
     "name": "#%%\n"
    }
   },
   "outputs": [],
   "source": [
    "import os\n",
    "import torch\n",
    "import torch.nn as nn\n",
    "import torch.nn.functional as F\n",
    "import torch.optim as optim\n",
    "from torch.utils.data import DataLoader\n",
    "from torchvision import transforms"
   ]
  },
  {
   "cell_type": "code",
   "execution_count": 2,
   "metadata": {
    "pycharm": {
     "name": "#%%\n"
    }
   },
   "outputs": [],
   "source": [
    "from GaborNet.GaborLayerNew import GaborConv2d\n",
    "from dataset import DogsCatsDataset\n",
    "transform = transforms.Compose([transforms.ToPILImage(), transforms.Resize((256,256)), transforms.ToTensor(), transforms.Normalize((0.5, 0.5, 0.5), (0.5, 0.5, 0.5))])"
   ]
  },
  {
   "cell_type": "code",
   "execution_count": 3,
   "metadata": {},
   "outputs": [],
   "source": [
    "import GaborNet.GaborLayerNew as GLN"
   ]
  },
  {
   "cell_type": "code",
   "execution_count": 4,
   "metadata": {},
   "outputs": [
    {
     "data": {
      "text/plain": [
       "'0.2.0'"
      ]
     },
     "execution_count": 4,
     "metadata": {},
     "output_type": "execute_result"
    }
   ],
   "source": [
    "GLN.__version__"
   ]
  },
  {
   "cell_type": "code",
   "execution_count": 5,
   "metadata": {
    "pycharm": {
     "name": "#%%\n"
    }
   },
   "outputs": [],
   "source": [
    "train_set = DogsCatsDataset(root_dir=os.path.join('data', 'train'), transform=transform)\n",
    "test_set = DogsCatsDataset(root_dir=os.path.join('data', 'val'), transform=transform)"
   ]
  },
  {
   "cell_type": "code",
   "execution_count": 6,
   "metadata": {
    "pycharm": {
     "name": "#%%\n"
    }
   },
   "outputs": [],
   "source": [
    "train = DataLoader(train_set, batch_size=64, shuffle=True, num_workers=4)\n",
    "test = DataLoader(test_set, batch_size=128, shuffle=True, num_workers=4)"
   ]
  },
  {
   "cell_type": "code",
   "execution_count": 7,
   "metadata": {
    "pycharm": {
     "name": "#%%\n"
    }
   },
   "outputs": [
    {
     "data": {
      "text/plain": [
       "(32, 16)"
      ]
     },
     "execution_count": 7,
     "metadata": {},
     "output_type": "execute_result"
    }
   ],
   "source": [
    "len(train), len(test)"
   ]
  },
  {
   "cell_type": "code",
   "execution_count": 8,
   "metadata": {
    "pycharm": {
     "name": "#%%\n"
    }
   },
   "outputs": [],
   "source": [
    "one_layer_gnet_acc_train = []\n",
    "one_layer_gnet_loss_train = []\n",
    "one_layer_gnet_acc_test = []\n",
    "one_layer_gnet_loss_test = []\n",
    "\n",
    "two_layer_gnet_acc_train = []\n",
    "two_layer_gnet_loss_train = []\n",
    "two_layer_gnet_acc_test = []\n",
    "two_layer_gnet_loss_test = []\n",
    "\n",
    "convnet_acc_train = []\n",
    "convnet_loss_train = []\n",
    "convnet_acc_test = []\n",
    "convnet_loss_test = []\n",
    "\n",
    "one_layer_cgnet_acc_train = []\n",
    "one_layer_cgnet_loss_train = []\n",
    "one_layer_cgnet_acc_test = []\n",
    "one_layer_cgnet_loss_test = []\n",
    "\n",
    "two_layer_cgnet_acc_train = []\n",
    "two_layer_cgnet_loss_train = []\n",
    "two_layer_cgnet_acc_test = []\n",
    "two_layer_cgnet_loss_test = []\n",
    "\n",
    "device = torch.device(\"cuda:0\" if torch.cuda.is_available() else \"cpu\")"
   ]
  },
  {
   "cell_type": "code",
   "execution_count": 9,
   "metadata": {
    "pycharm": {
     "name": "#%%\n"
    }
   },
   "outputs": [],
   "source": [
    "class GaborNet_one_layer(nn.Module):\n",
    "    def __init__(self):\n",
    "        super(GaborNet_one_layer, self).__init__()\n",
    "        self.g1 = GaborConv2d(3, 32, kernel_size=(15,15), stride=1)\n",
    "        self.c1 = nn.Conv2d(32, 64, kernel_size=(3,3), stride=2)\n",
    "        self.c2 = nn.Conv2d(64, 128, kernel_size=(3,3), stride=2)\n",
    "        self.fc1 = nn.Linear(128*7*7, 128)\n",
    "        self.fc3 = nn.Linear(128,2)\n",
    "\n",
    "    def forward(self, x):\n",
    "        x = F.max_pool2d(F.leaky_relu(self.g1(x)), kernel_size=2)\n",
    "        x = nn.Dropout2d()(x)\n",
    "        x = F.max_pool2d(F.leaky_relu(self.c1(x)), kernel_size=2)\n",
    "        x = F.max_pool2d(F.leaky_relu(self.c2(x)), kernel_size=2)\n",
    "        x = nn.Dropout2d()(x)\n",
    "        x = x.view(-1, 128*7*7)\n",
    "        x = F.leaky_relu(self.fc1(x))\n",
    "        x = nn.Dropout()(x)\n",
    "        x = self.fc3(x)\n",
    "        return x"
   ]
  },
  {
   "cell_type": "code",
   "execution_count": 10,
   "metadata": {
    "pycharm": {
     "name": "#%%\n"
    }
   },
   "outputs": [
    {
     "data": {
      "text/plain": [
       "GaborNet_one_layer(\n",
       "  (g1): GaborConv2d(\n",
       "    (conv_layer): Conv2d(3, 32, kernel_size=(15, 15), stride=(1, 1), bias=False)\n",
       "  )\n",
       "  (c1): Conv2d(32, 64, kernel_size=(3, 3), stride=(2, 2))\n",
       "  (c2): Conv2d(64, 128, kernel_size=(3, 3), stride=(2, 2))\n",
       "  (fc1): Linear(in_features=6272, out_features=128, bias=True)\n",
       "  (fc3): Linear(in_features=128, out_features=2, bias=True)\n",
       ")"
      ]
     },
     "execution_count": 10,
     "metadata": {},
     "output_type": "execute_result"
    }
   ],
   "source": [
    "device = torch.device(\"cuda:0\" if torch.cuda.is_available() else \"cpu\")\n",
    "net = GaborNet_one_layer().to(device)\n",
    "criterion = nn.CrossEntropyLoss()\n",
    "optimizer = optim.AdamW(net.parameters())\n",
    "net"
   ]
  },
  {
   "cell_type": "code",
   "execution_count": null,
   "metadata": {},
   "outputs": [],
   "source": [
    "\n"
   ]
  },
  {
   "cell_type": "code",
   "execution_count": null,
   "metadata": {
    "pycharm": {
     "name": "#%%\n"
    }
   },
   "outputs": [],
   "source": [
    "for epoch in range(50):\n",
    "\n",
    "    running_loss = 0.0\n",
    "    correct = 0\n",
    "    net.train()\n",
    "    for i, data in enumerate(train, 0):\n",
    "        # get the inputs\n",
    "        inputs, labels = data['image'], data['target']\n",
    "\n",
    "        # zero the parameter gradients\n",
    "        optimizer.zero_grad()\n",
    "\n",
    "        # forward + backward + optimize\n",
    "        outputs = net(inputs.to(device))\n",
    "        loss = criterion(outputs, labels.to(device))\n",
    "        loss.backward()\n",
    "        optimizer.step()\n",
    "        pred = outputs.max(1, keepdim=True)[1].to('cpu')\n",
    "        correct += pred.eq(labels.view_as(pred)).sum().item()\n",
    "\n",
    "        # print statistics\n",
    "        running_loss += loss.item()\n",
    "    print('[%d] train_acc: %.3f train_loss: %.3f' %(epoch + 1, correct/len(train_set), running_loss/len(train_set)))\n",
    "    one_layer_gnet_acc_train.append(correct/len(train_set))\n",
    "    one_layer_gnet_loss_train.append(running_loss/len(train_set))\n",
    "\n",
    "    running_loss = 0.0\n",
    "    correct = 0\n",
    "    with torch.no_grad():\n",
    "        net.eval()\n",
    "        for i, data in enumerate(test, 0):\n",
    "            # get the inputs\n",
    "            inputs, labels = data['image'], data['target']\n",
    "\n",
    "            # forward + backward + optimize\n",
    "            outputs = net(inputs.to(device))\n",
    "            loss = criterion(outputs, labels.to(device))\n",
    "\n",
    "            pred = outputs.max(1, keepdim=True)[1].to('cpu')\n",
    "            correct += pred.eq(labels.view_as(pred)).sum().item()\n",
    "            running_loss += loss.item()\n",
    "    print('[%d] test_acc: %.3f test_loss: %.3f' %(epoch + 1, correct/len(test_set), running_loss/len(test_set)))\n",
    "    one_layer_gnet_acc_test.append(correct/len(test_set))\n",
    "    one_layer_gnet_loss_test.append(running_loss/len(test_set))\n",
    "\n",
    "print('Finished Training')"
   ]
  },
  {
   "cell_type": "code",
   "execution_count": null,
   "metadata": {
    "pycharm": {
     "name": "#%%\n"
    }
   },
   "outputs": [],
   "source": [
    "acc = "
   ]
  },
  {
   "cell_type": "code",
   "execution_count": null,
   "metadata": {},
   "outputs": [],
   "source": []
  }
 ],
 "metadata": {
  "kernelspec": {
   "display_name": "Python 3",
   "language": "python",
   "name": "python3"
  },
  "language_info": {
   "codemirror_mode": {
    "name": "ipython",
    "version": 3
   },
   "file_extension": ".py",
   "mimetype": "text/x-python",
   "name": "python",
   "nbconvert_exporter": "python",
   "pygments_lexer": "ipython3",
   "version": "3.6.10"
  }
 },
 "nbformat": 4,
 "nbformat_minor": 1
}
