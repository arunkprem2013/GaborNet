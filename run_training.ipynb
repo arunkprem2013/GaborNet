{
 "cells": [
  {
   "cell_type": "code",
   "execution_count": 1,
   "metadata": {
    "pycharm": {
     "name": "#%%\n"
    }
   },
   "outputs": [],
   "source": [
    "import os\n",
    "import torch\n",
    "import torch.nn as nn\n",
    "import torch.nn.functional as F\n",
    "import torch.optim as optim\n",
    "from torch.utils.data import DataLoader\n",
    "from torchvision import transforms"
   ]
  },
  {
   "cell_type": "code",
   "execution_count": 2,
   "metadata": {
    "pycharm": {
     "name": "#%%\n"
    }
   },
   "outputs": [
    {
     "name": "stdout",
     "output_type": "stream",
     "text": [
      "1.6.0\n"
     ]
    }
   ],
   "source": [
    "from GaborNet import GaborConv2d\n",
    "from dataset import DogsCatsDataset\n",
    "transform = transforms.Compose([transforms.ToPILImage(), transforms.Resize((256,256)), transforms.ToTensor(), transforms.Normalize((0.5, 0.5, 0.5), (0.5, 0.5, 0.5))])"
   ]
  },
  {
   "cell_type": "code",
   "execution_count": 3,
   "metadata": {
    "pycharm": {
     "name": "#%%\n"
    }
   },
   "outputs": [],
   "source": [
    "train_set = DogsCatsDataset(root_dir=os.path.join('data', 'train'), transform=transform)\n",
    "test_set = DogsCatsDataset(root_dir=os.path.join('data', 'val'), transform=transform)"
   ]
  },
  {
   "cell_type": "code",
   "execution_count": 4,
   "metadata": {
    "pycharm": {
     "name": "#%%\n"
    }
   },
   "outputs": [],
   "source": [
    "train = DataLoader(train_set, batch_size=64, shuffle=True, num_workers=4)\n",
    "test = DataLoader(test_set, batch_size=128, shuffle=True, num_workers=4)"
   ]
  },
  {
   "cell_type": "code",
   "execution_count": 6,
   "metadata": {
    "pycharm": {
     "name": "#%%\n"
    }
   },
   "outputs": [
    {
     "data": {
      "text/plain": [
       "(32, 16)"
      ]
     },
     "execution_count": 6,
     "metadata": {},
     "output_type": "execute_result"
    }
   ],
   "source": [
    "len(train), len(test)"
   ]
  },
  {
   "cell_type": "code",
   "execution_count": 7,
   "metadata": {
    "pycharm": {
     "name": "#%%\n"
    }
   },
   "outputs": [],
   "source": [
    "one_layer_gnet_acc_train = []\n",
    "one_layer_gnet_loss_train = []\n",
    "one_layer_gnet_acc_test = []\n",
    "one_layer_gnet_loss_test = []\n",
    "\n",
    "two_layer_gnet_acc_train = []\n",
    "two_layer_gnet_loss_train = []\n",
    "two_layer_gnet_acc_test = []\n",
    "two_layer_gnet_loss_test = []\n",
    "\n",
    "convnet_acc_train = []\n",
    "convnet_loss_train = []\n",
    "convnet_acc_test = []\n",
    "convnet_loss_test = []\n",
    "\n",
    "one_layer_cgnet_acc_train = []\n",
    "one_layer_cgnet_loss_train = []\n",
    "one_layer_cgnet_acc_test = []\n",
    "one_layer_cgnet_loss_test = []\n",
    "\n",
    "two_layer_cgnet_acc_train = []\n",
    "two_layer_cgnet_loss_train = []\n",
    "two_layer_cgnet_acc_test = []\n",
    "two_layer_cgnet_loss_test = []\n",
    "\n",
    "device = torch.device(\"cuda:0\" if torch.cuda.is_available() else \"cpu\")"
   ]
  },
  {
   "cell_type": "code",
   "execution_count": 8,
   "metadata": {
    "pycharm": {
     "name": "#%%\n"
    }
   },
   "outputs": [],
   "source": [
    "class GaborNet_one_layer(nn.Module):\n",
    "    def __init__(self):\n",
    "        super(GaborNet_one_layer, self).__init__()\n",
    "        self.g1 = GaborConv2d(3, 32, kernel_size=(15,15), stride=1, device=device)\n",
    "        self.c1 = nn.Conv2d(32, 64, kernel_size=(3,3), stride=2)\n",
    "        self.c2 = nn.Conv2d(64, 128, kernel_size=(3,3), stride=2)\n",
    "        self.fc1 = nn.Linear(128*7*7, 128)\n",
    "        self.fc3 = nn.Linear(128,2)\n",
    "\n",
    "    def forward(self, x):\n",
    "        x = F.max_pool2d(F.leaky_relu(self.g1(x)), kernel_size=2)\n",
    "        x = nn.Dropout2d()(x)\n",
    "        x = F.max_pool2d(F.leaky_relu(self.c1(x)), kernel_size=2)\n",
    "        x = F.max_pool2d(F.leaky_relu(self.c2(x)), kernel_size=2)\n",
    "        x = nn.Dropout2d()(x)\n",
    "        x = x.view(-1, 128*7*7)\n",
    "        x = F.leaky_relu(self.fc1(x))\n",
    "        x = nn.Dropout()(x)\n",
    "        x = self.fc3(x)\n",
    "        return x"
   ]
  },
  {
   "cell_type": "code",
   "execution_count": 9,
   "metadata": {
    "pycharm": {
     "name": "#%%\n"
    }
   },
   "outputs": [
    {
     "name": "stdout",
     "output_type": "stream",
     "text": [
      "cuda:0\n",
      "GaborNet_one_layer(\n",
      "  (g1): GaborConv2d(3, 32, kernel_size=(15, 15), stride=(1, 1), bias=False)\n",
      "  (c1): Conv2d(32, 64, kernel_size=(3, 3), stride=(2, 2))\n",
      "  (c2): Conv2d(64, 128, kernel_size=(3, 3), stride=(2, 2))\n",
      "  (fc1): Linear(in_features=6272, out_features=128, bias=True)\n",
      "  (fc3): Linear(in_features=128, out_features=2, bias=True)\n",
      ")\n"
     ]
    }
   ],
   "source": [
    "device = torch.device(\"cuda:0\" if torch.cuda.is_available() else \"cpu\")\n",
    "net = GaborNet_one_layer().to(device)\n",
    "criterion = nn.CrossEntropyLoss()\n",
    "optimizer = optim.AdamW(net.parameters())"
   ]
  },
  {
   "cell_type": "code",
   "execution_count": 10,
   "metadata": {
    "pycharm": {
     "name": "#%%\n"
    }
   },
   "outputs": [
    {
     "name": "stdout",
     "output_type": "stream",
     "text": [
      "[1] train_acc: 0.500 train_loss: 0.011\n",
      "[1] test_acc: 0.553 test_loss: 0.005\n",
      "[2] train_acc: 0.561 train_loss: 0.011\n",
      "[2] test_acc: 0.582 test_loss: 0.005\n",
      "[3] train_acc: 0.567 train_loss: 0.011\n",
      "[3] test_acc: 0.581 test_loss: 0.005\n",
      "[4] train_acc: 0.578 train_loss: 0.011\n",
      "[4] test_acc: 0.602 test_loss: 0.005\n",
      "[5] train_acc: 0.601 train_loss: 0.011\n",
      "[5] test_acc: 0.616 test_loss: 0.005\n",
      "[6] train_acc: 0.626 train_loss: 0.011\n",
      "[6] test_acc: 0.620 test_loss: 0.005\n",
      "[7] train_acc: 0.651 train_loss: 0.010\n",
      "[7] test_acc: 0.635 test_loss: 0.005\n",
      "[8] train_acc: 0.661 train_loss: 0.010\n",
      "[8] test_acc: 0.656 test_loss: 0.005\n",
      "[9] train_acc: 0.686 train_loss: 0.010\n",
      "[9] test_acc: 0.666 test_loss: 0.005\n",
      "[10] train_acc: 0.704 train_loss: 0.009\n",
      "[10] test_acc: 0.671 test_loss: 0.005\n",
      "[11] train_acc: 0.720 train_loss: 0.009\n",
      "[11] test_acc: 0.688 test_loss: 0.005\n",
      "[12] train_acc: 0.737 train_loss: 0.008\n",
      "[12] test_acc: 0.702 test_loss: 0.005\n",
      "[13] train_acc: 0.758 train_loss: 0.008\n",
      "[13] test_acc: 0.703 test_loss: 0.005\n",
      "[14] train_acc: 0.762 train_loss: 0.008\n",
      "[14] test_acc: 0.713 test_loss: 0.005\n",
      "[15] train_acc: 0.760 train_loss: 0.008\n",
      "[15] test_acc: 0.705 test_loss: 0.005\n",
      "[16] train_acc: 0.784 train_loss: 0.008\n",
      "[16] test_acc: 0.721 test_loss: 0.005\n",
      "[17] train_acc: 0.785 train_loss: 0.007\n",
      "[17] test_acc: 0.724 test_loss: 0.005\n",
      "[18] train_acc: 0.807 train_loss: 0.007\n",
      "[18] test_acc: 0.717 test_loss: 0.005\n",
      "[19] train_acc: 0.817 train_loss: 0.007\n",
      "[19] test_acc: 0.711 test_loss: 0.005\n",
      "[20] train_acc: 0.816 train_loss: 0.007\n",
      "[20] test_acc: 0.702 test_loss: 0.005\n",
      "[21] train_acc: 0.814 train_loss: 0.006\n",
      "[21] test_acc: 0.733 test_loss: 0.005\n",
      "[22] train_acc: 0.835 train_loss: 0.006\n",
      "[22] test_acc: 0.721 test_loss: 0.005\n",
      "[23] train_acc: 0.831 train_loss: 0.006\n",
      "[23] test_acc: 0.729 test_loss: 0.005\n",
      "[24] train_acc: 0.859 train_loss: 0.005\n",
      "[24] test_acc: 0.713 test_loss: 0.006\n",
      "[25] train_acc: 0.853 train_loss: 0.005\n",
      "[25] test_acc: 0.706 test_loss: 0.006\n",
      "[26] train_acc: 0.854 train_loss: 0.005\n",
      "[26] test_acc: 0.724 test_loss: 0.006\n",
      "[27] train_acc: 0.876 train_loss: 0.005\n",
      "[27] test_acc: 0.724 test_loss: 0.006\n",
      "[28] train_acc: 0.888 train_loss: 0.004\n",
      "[28] test_acc: 0.708 test_loss: 0.006\n",
      "[29] train_acc: 0.884 train_loss: 0.004\n",
      "[29] test_acc: 0.704 test_loss: 0.006\n",
      "[30] train_acc: 0.897 train_loss: 0.004\n",
      "[30] test_acc: 0.711 test_loss: 0.007\n",
      "[31] train_acc: 0.902 train_loss: 0.004\n",
      "[31] test_acc: 0.713 test_loss: 0.006\n",
      "[32] train_acc: 0.909 train_loss: 0.004\n",
      "[32] test_acc: 0.720 test_loss: 0.007\n",
      "[33] train_acc: 0.910 train_loss: 0.003\n",
      "[33] test_acc: 0.716 test_loss: 0.007\n",
      "[34] train_acc: 0.911 train_loss: 0.003\n",
      "[34] test_acc: 0.711 test_loss: 0.007\n",
      "[35] train_acc: 0.920 train_loss: 0.003\n",
      "[35] test_acc: 0.714 test_loss: 0.007\n",
      "[36] train_acc: 0.925 train_loss: 0.003\n",
      "[36] test_acc: 0.715 test_loss: 0.007\n",
      "[37] train_acc: 0.926 train_loss: 0.003\n",
      "[37] test_acc: 0.711 test_loss: 0.008\n",
      "[38] train_acc: 0.924 train_loss: 0.003\n",
      "[38] test_acc: 0.725 test_loss: 0.007\n",
      "[39] train_acc: 0.937 train_loss: 0.003\n",
      "[39] test_acc: 0.707 test_loss: 0.008\n",
      "[40] train_acc: 0.944 train_loss: 0.002\n",
      "[40] test_acc: 0.696 test_loss: 0.008\n",
      "[41] train_acc: 0.936 train_loss: 0.003\n",
      "[41] test_acc: 0.703 test_loss: 0.008\n",
      "[42] train_acc: 0.940 train_loss: 0.002\n",
      "[42] test_acc: 0.720 test_loss: 0.008\n",
      "[43] train_acc: 0.951 train_loss: 0.002\n",
      "[43] test_acc: 0.728 test_loss: 0.008\n",
      "[44] train_acc: 0.960 train_loss: 0.002\n",
      "[44] test_acc: 0.699 test_loss: 0.009\n",
      "[45] train_acc: 0.955 train_loss: 0.002\n",
      "[45] test_acc: 0.714 test_loss: 0.008\n",
      "[46] train_acc: 0.952 train_loss: 0.002\n",
      "[46] test_acc: 0.711 test_loss: 0.008\n",
      "[47] train_acc: 0.952 train_loss: 0.002\n",
      "[47] test_acc: 0.711 test_loss: 0.008\n",
      "[48] train_acc: 0.956 train_loss: 0.002\n",
      "[48] test_acc: 0.706 test_loss: 0.010\n",
      "[49] train_acc: 0.966 train_loss: 0.002\n",
      "[49] test_acc: 0.726 test_loss: 0.009\n",
      "[50] train_acc: 0.968 train_loss: 0.001\n",
      "[50] test_acc: 0.720 test_loss: 0.009\n",
      "Finished Training\n"
     ]
    }
   ],
   "source": [
    "for epoch in range(50):\n",
    "\n",
    "    running_loss = 0.0\n",
    "    correct = 0\n",
    "    net.train()\n",
    "    for i, data in enumerate(train, 0):\n",
    "        # get the inputs\n",
    "        inputs, labels = data['image'], data['target']\n",
    "\n",
    "        # zero the parameter gradients\n",
    "        optimizer.zero_grad()\n",
    "\n",
    "        # forward + backward + optimize\n",
    "        outputs = net(inputs.to(device))\n",
    "        loss = criterion(outputs, labels.to(device))\n",
    "        loss.backward()\n",
    "        optimizer.step()\n",
    "        pred = outputs.max(1, keepdim=True)[1].to('cpu')\n",
    "        correct += pred.eq(labels.view_as(pred)).sum().item()\n",
    "\n",
    "        # print statistics\n",
    "        running_loss += loss.item()\n",
    "    print('[%d] train_acc: %.3f train_loss: %.3f' %(epoch + 1, correct/len(train_set), running_loss/len(train_set)))\n",
    "    one_layer_gnet_acc_train.append(correct/len(train_set))\n",
    "    one_layer_gnet_loss_train.append(running_loss/len(train_set))\n",
    "\n",
    "    running_loss = 0.0\n",
    "    correct = 0\n",
    "    with torch.no_grad():\n",
    "        net.eval()\n",
    "        for i, data in enumerate(test, 0):\n",
    "            # get the inputs\n",
    "            inputs, labels = data['image'], data['target']\n",
    "\n",
    "            # forward + backward + optimize\n",
    "            outputs = net(inputs.to(device))\n",
    "            loss = criterion(outputs, labels.to(device))\n",
    "\n",
    "            pred = outputs.max(1, keepdim=True)[1].to('cpu')\n",
    "            correct += pred.eq(labels.view_as(pred)).sum().item()\n",
    "            running_loss += loss.item()\n",
    "    print('[%d] test_acc: %.3f test_loss: %.3f' %(epoch + 1, correct/len(test_set), running_loss/len(test_set)))\n",
    "    one_layer_gnet_acc_test.append(correct/len(test_set))\n",
    "    one_layer_gnet_loss_test.append(running_loss/len(test_set))\n",
    "\n",
    "print('Finished Training')"
   ]
  },
  {
   "cell_type": "code",
   "execution_count": 11,
   "metadata": {
    "pycharm": {
     "name": "#%%\n"
    }
   },
   "outputs": [
    {
     "data": {
      "text/plain": [
       "[0.553,\n",
       " 0.5815,\n",
       " 0.581,\n",
       " 0.6015,\n",
       " 0.616,\n",
       " 0.62,\n",
       " 0.6355,\n",
       " 0.6565,\n",
       " 0.6665,\n",
       " 0.671,\n",
       " 0.688,\n",
       " 0.702,\n",
       " 0.703,\n",
       " 0.7125,\n",
       " 0.7045,\n",
       " 0.721,\n",
       " 0.724,\n",
       " 0.7165,\n",
       " 0.7105,\n",
       " 0.7015,\n",
       " 0.733,\n",
       " 0.721,\n",
       " 0.729,\n",
       " 0.7125,\n",
       " 0.706,\n",
       " 0.724,\n",
       " 0.724,\n",
       " 0.708,\n",
       " 0.704,\n",
       " 0.711,\n",
       " 0.713,\n",
       " 0.7195,\n",
       " 0.7155,\n",
       " 0.711,\n",
       " 0.714,\n",
       " 0.7145,\n",
       " 0.7105,\n",
       " 0.725,\n",
       " 0.7065,\n",
       " 0.6955,\n",
       " 0.7025,\n",
       " 0.7195,\n",
       " 0.7275,\n",
       " 0.699,\n",
       " 0.7135,\n",
       " 0.7105,\n",
       " 0.711,\n",
       " 0.7055,\n",
       " 0.7255,\n",
       " 0.72]"
      ]
     },
     "execution_count": 11,
     "metadata": {},
     "output_type": "execute_result"
    }
   ],
   "source": [
    "acc = "
   ]
  },
  {
   "cell_type": "code",
   "execution_count": null,
   "metadata": {},
   "outputs": [],
   "source": []
  }
 ],
 "metadata": {
  "kernelspec": {
   "display_name": "Python 3",
   "language": "python",
   "name": "python3"
  },
  "language_info": {
   "codemirror_mode": {
    "name": "ipython",
    "version": 3
   },
   "file_extension": ".py",
   "mimetype": "text/x-python",
   "name": "python",
   "nbconvert_exporter": "python",
   "pygments_lexer": "ipython3",
   "version": "3.6.10"
  }
 },
 "nbformat": 4,
 "nbformat_minor": 1
}